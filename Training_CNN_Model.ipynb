{
 "cells": [
  {
   "cell_type": "code",
   "execution_count": 1,
   "metadata": {},
   "outputs": [
    {
     "name": "stderr",
     "output_type": "stream",
     "text": [
      "2025-09-11 06:51:53.447031: I tensorflow/core/util/port.cc:110] oneDNN custom operations are on. You may see slightly different numerical results due to floating-point round-off errors from different computation orders. To turn them off, set the environment variable `TF_ENABLE_ONEDNN_OPTS=0`.\n",
      "2025-09-11 06:51:53.450781: I tensorflow/tsl/cuda/cudart_stub.cc:28] Could not find cuda drivers on your machine, GPU will not be used.\n",
      "2025-09-11 06:51:53.538729: I tensorflow/tsl/cuda/cudart_stub.cc:28] Could not find cuda drivers on your machine, GPU will not be used.\n",
      "2025-09-11 06:51:53.539933: I tensorflow/core/platform/cpu_feature_guard.cc:182] This TensorFlow binary is optimized to use available CPU instructions in performance-critical operations.\n",
      "To enable the following instructions: AVX2 AVX512F AVX512_VNNI FMA, in other operations, rebuild TensorFlow with the appropriate compiler flags.\n",
      "2025-09-11 06:51:54.943859: W tensorflow/compiler/tf2tensorrt/utils/py_utils.cc:38] TF-TRT Warning: Could not find TensorRT\n"
     ]
    },
    {
     "name": "stdout",
     "output_type": "stream",
     "text": [
      "Downloading data from https://www.cs.toronto.edu/~kriz/cifar-10-python.tar.gz\n",
      "170498071/170498071 [==============================] - 241s 1us/step\n"
     ]
    }
   ],
   "source": [
    "from tensorflow.keras.datasets import cifar10\n",
    "\n",
    "(x_train,y_train),(x_test,y_test) = cifar10.load_data()\n",
    "\n",
    "#Normalize the image betwwen 0-10\n",
    "x_train = x_train.astype('float32')/255.0\n",
    "x_test = x_test.astype('float32')/255.0\n",
    "\n",
    "#Convert labels to one_hot \n",
    "from tensorflow.keras.utils import to_categorical\n",
    "\n",
    "y_train = to_categorical(y_train,10)\n",
    "y_test = to_categorical(y_test,10)\n",
    "\n"
   ]
  },
  {
   "cell_type": "code",
   "execution_count": 9,
   "metadata": {},
   "outputs": [
    {
     "name": "stdout",
     "output_type": "stream",
     "text": [
      "Model: \"sequential_1\"\n",
      "_________________________________________________________________\n",
      " Layer (type)                Output Shape              Param #   \n",
      "=================================================================\n",
      " conv2d_3 (Conv2D)           (None, 32, 32, 32)        896       \n",
      "                                                                 \n",
      " max_pooling2d_3 (MaxPooling  (None, 16, 16, 32)       0         \n",
      " 2D)                                                             \n",
      "                                                                 \n",
      " conv2d_4 (Conv2D)           (None, 16, 16, 64)        18496     \n",
      "                                                                 \n",
      " max_pooling2d_4 (MaxPooling  (None, 8, 8, 64)         0         \n",
      " 2D)                                                             \n",
      "                                                                 \n",
      " conv2d_5 (Conv2D)           (None, 8, 8, 128)         73856     \n",
      "                                                                 \n",
      " max_pooling2d_5 (MaxPooling  (None, 4, 4, 128)        0         \n",
      " 2D)                                                             \n",
      "                                                                 \n",
      " flatten_1 (Flatten)         (None, 2048)              0         \n",
      "                                                                 \n",
      " dense_2 (Dense)             (None, 128)               262272    \n",
      "                                                                 \n",
      " dropout_1 (Dropout)         (None, 128)               0         \n",
      "                                                                 \n",
      " dense_3 (Dense)             (None, 10)                1290      \n",
      "                                                                 \n",
      "=================================================================\n",
      "Total params: 356,810\n",
      "Trainable params: 356,810\n",
      "Non-trainable params: 0\n",
      "_________________________________________________________________\n"
     ]
    }
   ],
   "source": [
    "#Build the Model\n",
    "from tensorflow.keras.models import Sequential\n",
    "from tensorflow.keras.layers import Conv2D, MaxPooling2D, Flatten, Dense, Dropout\n",
    "\n",
    "model = Sequential()\n",
    "\n",
    "model.add(Conv2D(32,kernel_size = (3,3),activation = 'relu',padding = 'same',input_shape = (32,32,3)))\n",
    "model.add(MaxPooling2D(pool_size = (2,2)))\n",
    "\n",
    "model.add(Conv2D(64,kernel_size = (3,3),activation = 'relu',padding = 'same'))\n",
    "model.add(MaxPooling2D(pool_size = (2,2)))\n",
    "\n",
    "model.add(Conv2D(128,kernel_size = (3,3),activation = 'relu',padding = 'same'))\n",
    "model.add(MaxPooling2D(pool_size = (2,2)))\n",
    "\n",
    "model.add(Flatten())\n",
    "\n",
    "model.add(Dense(128,activation = 'relu'))\n",
    "model.add(Dropout(0.5))\n",
    "\n",
    "model.add(Dense(10,activation = 'softmax'))\n",
    "\n",
    "model.compile(loss = 'categorical_crossentropy',optimizer = 'adam',metrics = ['accuracy'])\n",
    "\n",
    "model.summary()"
   ]
  },
  {
   "cell_type": "code",
   "execution_count": 3,
   "metadata": {},
   "outputs": [
    {
     "name": "stdout",
     "output_type": "stream",
     "text": [
      "Epoch 1/10\n",
      "\n",
      "Epoch 1: val_loss improved from inf to 1.27689, saving model to CNN_Model.keras\n",
      "782/782 - 28s - loss: 1.6844 - accuracy: 0.3791 - val_loss: 1.2769 - val_accuracy: 0.5342 - 28s/epoch - 36ms/step\n",
      "Epoch 2/10\n",
      "\n",
      "Epoch 2: val_loss improved from 1.27689 to 1.08921, saving model to CNN_Model.keras\n",
      "782/782 - 25s - loss: 1.3177 - accuracy: 0.5262 - val_loss: 1.0892 - val_accuracy: 0.6165 - 25s/epoch - 32ms/step\n",
      "Epoch 3/10\n",
      "\n",
      "Epoch 3: val_loss improved from 1.08921 to 1.03605, saving model to CNN_Model.keras\n",
      "782/782 - 25s - loss: 1.1493 - accuracy: 0.5949 - val_loss: 1.0360 - val_accuracy: 0.6349 - 25s/epoch - 32ms/step\n",
      "Epoch 4/10\n",
      "\n",
      "Epoch 4: val_loss improved from 1.03605 to 0.90707, saving model to CNN_Model.keras\n",
      "782/782 - 25s - loss: 1.0311 - accuracy: 0.6382 - val_loss: 0.9071 - val_accuracy: 0.6861 - 25s/epoch - 33ms/step\n",
      "Epoch 5/10\n",
      "\n",
      "Epoch 5: val_loss improved from 0.90707 to 0.84523, saving model to CNN_Model.keras\n",
      "782/782 - 25s - loss: 0.9474 - accuracy: 0.6695 - val_loss: 0.8452 - val_accuracy: 0.7079 - 25s/epoch - 33ms/step\n",
      "Epoch 6/10\n",
      "\n",
      "Epoch 6: val_loss improved from 0.84523 to 0.81604, saving model to CNN_Model.keras\n",
      "782/782 - 25s - loss: 0.8799 - accuracy: 0.6947 - val_loss: 0.8160 - val_accuracy: 0.7191 - 25s/epoch - 33ms/step\n",
      "Epoch 7/10\n",
      "\n",
      "Epoch 7: val_loss improved from 0.81604 to 0.80080, saving model to CNN_Model.keras\n",
      "782/782 - 26s - loss: 0.8191 - accuracy: 0.7150 - val_loss: 0.8008 - val_accuracy: 0.7221 - 26s/epoch - 33ms/step\n",
      "Epoch 8/10\n",
      "\n",
      "Epoch 8: val_loss did not improve from 0.80080\n",
      "782/782 - 25s - loss: 0.7627 - accuracy: 0.7307 - val_loss: 0.8020 - val_accuracy: 0.7271 - 25s/epoch - 33ms/step\n",
      "Epoch 9/10\n",
      "\n",
      "Epoch 9: val_loss improved from 0.80080 to 0.79608, saving model to CNN_Model.keras\n",
      "782/782 - 25s - loss: 0.7229 - accuracy: 0.7452 - val_loss: 0.7961 - val_accuracy: 0.7286 - 25s/epoch - 32ms/step\n",
      "Epoch 10/10\n",
      "\n",
      "Epoch 10: val_loss did not improve from 0.79608\n",
      "782/782 - 25s - loss: 0.6785 - accuracy: 0.7614 - val_loss: 0.8160 - val_accuracy: 0.7269 - 25s/epoch - 32ms/step\n"
     ]
    }
   ],
   "source": [
    "#train the model\n",
    "from tensorflow.keras.callbacks import ModelCheckpoint\n",
    "\n",
    "#train the model\n",
    "checkpoint = ModelCheckpoint(filepath = 'CNN_Model.keras',verbose = 1,\n",
    "                             save_best_only = True)\n",
    "\n",
    "cnn_model = model.fit(x_train,y_train,batch_size = 64,epochs = 10,\n",
    "                      validation_data = (x_test,y_test), callbacks = [checkpoint],\n",
    "                      verbose = 2,shuffle = True)"
   ]
  },
  {
   "cell_type": "code",
   "execution_count": 10,
   "metadata": {},
   "outputs": [],
   "source": [
    "model.load_weights('CNN_Model.keras')"
   ]
  },
  {
   "cell_type": "code",
   "execution_count": 11,
   "metadata": {},
   "outputs": [
    {
     "name": "stdout",
     "output_type": "stream",
     "text": [
      "Test accuracy : 72.860003\n"
     ]
    }
   ],
   "source": [
    "#Evaluate the model\n",
    "score = model.evaluate(x_test,y_test,verbose = 0)\n",
    "accuracy = 100*score[1]\n",
    "print(\"Test accuracy : %f\" %accuracy)"
   ]
  },
  {
   "cell_type": "code",
   "execution_count": 13,
   "metadata": {},
   "outputs": [],
   "source": [
    "model.save(\"cifar10_cnn.h5\")"
   ]
  },
  {
   "cell_type": "code",
   "execution_count": 7,
   "metadata": {},
   "outputs": [
    {
     "name": "stdout",
     "output_type": "stream",
     "text": [
      "Current working directory: /teamspace/studios/this_studio/CNN_Mini_Project\n",
      "Files in current directory: ['Requirement.txt', 'Training_CNN_Model.ipynb', 'CNN_Model.keras', 'cifar10_cnn.h5', 'app.py']\n"
     ]
    }
   ],
   "source": [
    "import os\n",
    "\n",
    "print(\"Current working directory:\", os.getcwd())\n",
    "print(\"Files in current directory:\", os.listdir())\n"
   ]
  },
  {
   "cell_type": "code",
   "execution_count": 8,
   "metadata": {},
   "outputs": [
    {
     "name": "stdout",
     "output_type": "stream",
     "text": [
      "Current dir: /teamspace/studios/this_studio/CNN_Mini_Project\n",
      "Files: ['Requirement.txt', 'Training_CNN_Model.ipynb', 'CNN_Model.keras', 'cifar10_cnn.h5', 'app.py']\n"
     ]
    }
   ],
   "source": [
    "import os\n",
    "print(\"Current dir:\", os.getcwd())\n",
    "print(\"Files:\", os.listdir())\n",
    "\n",
    "\n"
   ]
  }
 ],
 "metadata": {
  "language_info": {
   "name": "python"
  }
 },
 "nbformat": 4,
 "nbformat_minor": 2
}
